{
  "nbformat": 4,
  "nbformat_minor": 0,
  "metadata": {
    "colab": {
      "provenance": [],
      "authorship_tag": "ABX9TyNV+YlGvGF+B6aUDFx2ZHB0",
      "include_colab_link": true
    },
    "kernelspec": {
      "name": "python3",
      "display_name": "Python 3"
    },
    "language_info": {
      "name": "python"
    }
  },
  "cells": [
    {
      "cell_type": "markdown",
      "metadata": {
        "id": "view-in-github",
        "colab_type": "text"
      },
      "source": [
        "<a href=\"https://colab.research.google.com/github/rajeev-rai/EM-image-spectra-processing/blob/main/Python_Practice.ipynb\" target=\"_parent\"><img src=\"https://colab.research.google.com/assets/colab-badge.svg\" alt=\"Open In Colab\"/></a>"
      ]
    },
    {
      "cell_type": "markdown",
      "source": [
        "Python is an interactive and user freiendly programming language\n",
        "Python can be used as mathematical tool and can execute an individual command in place of the running the full programm."
      ],
      "metadata": {
        "id": "nnPqww5crrDB"
      }
    },
    {
      "cell_type": "code",
      "source": [
        "1+2\n"
      ],
      "metadata": {
        "colab": {
          "base_uri": "https://localhost:8080/"
        },
        "id": "AjMC61M2s7vU",
        "outputId": "694e3703-4b4b-43a8-f016-6f4869d089b5"
      },
      "execution_count": null,
      "outputs": [
        {
          "output_type": "execute_result",
          "data": {
            "text/plain": [
              "3"
            ]
          },
          "metadata": {},
          "execution_count": 2
        }
      ]
    },
    {
      "cell_type": "code",
      "source": [
        "5**2"
      ],
      "metadata": {
        "id": "YlrjeKK_tEmr"
      },
      "execution_count": null,
      "outputs": []
    },
    {
      "cell_type": "markdown",
      "source": [
        "Writing a string should be in \" \"\n",
        "list is written down within [x, y]\n",
        "len(list) gives the length of the items in the list.\n",
        "list counting in python starts with 0 not 1"
      ],
      "metadata": {
        "id": "sUxeWQn3s6ON"
      }
    },
    {
      "cell_type": "code",
      "source": [
        "my_list= [2, 3.05, 'flight', 4.02 ]\n",
        "len(my_list)"
      ],
      "metadata": {
        "colab": {
          "base_uri": "https://localhost:8080/"
        },
        "id": "Q_vepkrut7DR",
        "outputId": "f0524655-b70f-4984-d8bc-8063a2010408"
      },
      "execution_count": null,
      "outputs": [
        {
          "output_type": "execute_result",
          "data": {
            "text/plain": [
              "4"
            ]
          },
          "metadata": {},
          "execution_count": 2
        }
      ]
    },
    {
      "cell_type": "code",
      "source": [
        "my_list[0]"
      ],
      "metadata": {
        "colab": {
          "base_uri": "https://localhost:8080/"
        },
        "id": "3YPX69_TuHkg",
        "outputId": "c5717aed-116c-4283-d150-cbc21caea9be"
      },
      "execution_count": null,
      "outputs": [
        {
          "output_type": "execute_result",
          "data": {
            "text/plain": [
              "2"
            ]
          },
          "metadata": {},
          "execution_count": 3
        }
      ]
    },
    {
      "cell_type": "markdown",
      "source": [
        "Can take subset of the list by [0:2]. It will give objects of the list starting from 0 to end-1 which in this case is 1. So it will print two objects of the list which is my_list[0] and my_list[1]"
      ],
      "metadata": {
        "id": "v3dZd_xzuaA2"
      }
    },
    {
      "cell_type": "code",
      "source": [],
      "metadata": {
        "id": "Zjc7yWkguz9J"
      },
      "execution_count": null,
      "outputs": []
    },
    {
      "cell_type": "code",
      "source": [
        "my_list[0:3]"
      ],
      "metadata": {
        "colab": {
          "base_uri": "https://localhost:8080/"
        },
        "id": "pGr_NtOLu0AY",
        "outputId": "f13f9cf4-117b-4737-bcbe-346958446f71"
      },
      "execution_count": null,
      "outputs": [
        {
          "output_type": "execute_result",
          "data": {
            "text/plain": [
              "[2, 3.05, 'flight']"
            ]
          },
          "metadata": {},
          "execution_count": 4
        }
      ]
    },
    {
      "cell_type": "markdown",
      "source": [
        "Items can be added in the last of the list by using .append\n",
        "Items of the list can be changed alo by assigning the value to the specific items"
      ],
      "metadata": {
        "id": "W9mVzn4Nv3ID"
      }
    },
    {
      "cell_type": "code",
      "source": [
        "my_list.append(4.5)\n",
        "print(my_list)"
      ],
      "metadata": {
        "colab": {
          "base_uri": "https://localhost:8080/"
        },
        "id": "nSBe71Ojv86N",
        "outputId": "52e25539-43ef-43d9-d57d-3d696b5179de"
      },
      "execution_count": null,
      "outputs": [
        {
          "output_type": "stream",
          "name": "stdout",
          "text": [
            "[2, 3.05, 'flight', 4.02, 4.5]\n"
          ]
        }
      ]
    },
    {
      "cell_type": "code",
      "source": [
        "my_list[4]= 0"
      ],
      "metadata": {
        "id": "6TUAJxDewc6y"
      },
      "execution_count": null,
      "outputs": []
    },
    {
      "cell_type": "code",
      "source": [
        "print(my_list)"
      ],
      "metadata": {
        "colab": {
          "base_uri": "https://localhost:8080/"
        },
        "id": "za3qUUwIwbfD",
        "outputId": "58689d97-faf8-42c4-8cdc-b30bb2eb93d7"
      },
      "execution_count": null,
      "outputs": [
        {
          "output_type": "stream",
          "name": "stdout",
          "text": [
            "[2, 3.05, 'flight', 4.02, 4.5, 0, 4.5]\n"
          ]
        }
      ]
    },
    {
      "cell_type": "markdown",
      "source": [
        "conditioning using if, elif and else function\n",
        ": after if and elif conditions\n",
        "else is used as else:"
      ],
      "metadata": {
        "id": "hqXIfD_ReGa7"
      }
    },
    {
      "cell_type": "code",
      "source": [
        "speed = 65\n",
        "if speed >=60:\n",
        "  print (\"you are overspeeding\")\n",
        "elif speed<=45:\n",
        "  print(\"you are too slow\")\n",
        "else:\n",
        "  print(\"your speed is optimum\")"
      ],
      "metadata": {
        "colab": {
          "base_uri": "https://localhost:8080/"
        },
        "id": "pMYJUWD7eaMm",
        "outputId": "82f654d3-33b8-494f-f65d-72c9b0592ae0"
      },
      "execution_count": null,
      "outputs": [
        {
          "output_type": "stream",
          "name": "stdout",
          "text": [
            "you are overspeeding\n"
          ]
        }
      ]
    },
    {
      "cell_type": "markdown",
      "source": [
        "Loops: looping is done if any operation has to be done multiple times.\n",
        "\n",
        "two ways of loops: For loop and while loop.\n",
        "\n",
        "generally for loop is done for a definit times of operation and while loop is done where operation number is not fixed."
      ],
      "metadata": {
        "id": "c1E5mQ4tfCEJ"
      }
    },
    {
      "cell_type": "code",
      "source": [
        "my_list= [2, 3.05, 'flight', 4.02 ]\n",
        "for i in my_list:\n",
        "  print (i)"
      ],
      "metadata": {
        "colab": {
          "base_uri": "https://localhost:8080/"
        },
        "id": "p4UWfhWUgSDi",
        "outputId": "f4c88b70-9469-44ff-8e9c-e9c3d5b06a73"
      },
      "execution_count": null,
      "outputs": [
        {
          "output_type": "stream",
          "name": "stdout",
          "text": [
            "2\n",
            "3.05\n",
            "flight\n",
            "4.02\n"
          ]
        }
      ]
    },
    {
      "cell_type": "code",
      "source": [
        "age = 15\n",
        "while age < 18:\n",
        "    print('Cannot drive yet, you are only {} years old'.format(age))\n",
        "    break\n",
        "    #age = age + 1\n",
        "#print('You can finally drive now that you are {} years old'.format(age))"
      ],
      "metadata": {
        "colab": {
          "base_uri": "https://localhost:8080/"
        },
        "id": "obT8DbNUj3cn",
        "outputId": "967de541-317b-47a8-bdc8-797052b7cc91"
      },
      "execution_count": null,
      "outputs": [
        {
          "output_type": "stream",
          "name": "stdout",
          "text": [
            "Cannot drive yet, you are only 15 years old\n",
            "You can finally drive now that you are 15 years old\n"
          ]
        }
      ]
    },
    {
      "cell_type": "markdown",
      "source": [
        "break can be used to terminate the while loop.\n",
        "\n",
        "The last print command has to be out of the loop. otherwise it will be give the last print all the time"
      ],
      "metadata": {
        "id": "EN-xZLUMlA7d"
      }
    },
    {
      "cell_type": "markdown",
      "source": [
        ".format(variable) can be used to fill the variable automatically in the printed command"
      ],
      "metadata": {
        "id": "VZqzVgAxkEW1"
      }
    },
    {
      "cell_type": "markdown",
      "source": [
        "In python we can define function which can be recalled later while working on the code\n",
        "to define the function use def function name (variable)\n",
        "\n",
        "After the defining the variables, condition or loop has to be within the def function"
      ],
      "metadata": {
        "id": "KOmRGgNPlOB2"
      }
    },
    {
      "cell_type": "code",
      "source": [
        "def drink (name, age):\n",
        "  if age >= 21:\n",
        "    print(name + ', you are allowed to drink')\n",
        "  else:\n",
        "    print(name + ', you are not old enough to drink')\n",
        "\n",
        "drink('Rajeev', 21)"
      ],
      "metadata": {
        "colab": {
          "base_uri": "https://localhost:8080/"
        },
        "id": "AbtFBL6QkmjJ",
        "outputId": "791dcff8-c947-4bea-c6b3-b251405d2d65"
      },
      "execution_count": null,
      "outputs": [
        {
          "output_type": "stream",
          "name": "stdout",
          "text": [
            "Rajeev, you are allowed to drink\n"
          ]
        }
      ]
    },
    {
      "cell_type": "markdown",
      "source": [
        "The functions can also output some value when appropriate by returning some value(s).\n",
        "\n",
        "output of the def can be assigned to another variable too"
      ],
      "metadata": {
        "id": "Q7Lw-dolnK8b"
      }
    },
    {
      "cell_type": "code",
      "source": [
        "def eligible_to_drive(age):\n",
        "    if age >= 18:\n",
        "        return True\n",
        "    else:\n",
        "        return False\n",
        "\n",
        "age = 17\n",
        "result = eligible_to_drive(age)\n",
        "\n",
        "print('A person of age {} is allowed to drive: {}'.format(age, result))"
      ],
      "metadata": {
        "colab": {
          "base_uri": "https://localhost:8080/"
        },
        "id": "T4BRNJ_QuRiX",
        "outputId": "fb88b6e9-f36c-4c09-9fa8-2cea4d6957cc"
      },
      "execution_count": null,
      "outputs": [
        {
          "output_type": "stream",
          "name": "stdout",
          "text": [
            "A person of age 17 is allowed to drive: False\n"
          ]
        }
      ]
    },
    {
      "cell_type": "code",
      "source": [
        "False and True"
      ],
      "metadata": {
        "colab": {
          "base_uri": "https://localhost:8080/"
        },
        "id": "h5GFcZaWvW4T",
        "outputId": "c870f21e-2db2-4ce3-a6ae-e78090ea7ed7"
      },
      "execution_count": null,
      "outputs": [
        {
          "output_type": "execute_result",
          "data": {
            "text/plain": [
              "False"
            ]
          },
          "metadata": {},
          "execution_count": 25
        }
      ]
    },
    {
      "cell_type": "markdown",
      "source": [
        "Write a program to find weather the number is a prime number or not"
      ],
      "metadata": {
        "id": "Scj1KjQby92n"
      }
    },
    {
      "cell_type": "code",
      "source": [
        "Num = int(input('Enter Number = '))\n",
        "quotient = Num//2\n",
        "for i in range (2, quotient):\n",
        "  if (Num % i == 0):\n",
        "    print(Num, 'is not a prime number')\n",
        "    break\n",
        "else:\n",
        "    print(Num, 'is  a prime number')\n"
      ],
      "metadata": {
        "colab": {
          "base_uri": "https://localhost:8080/"
        },
        "id": "eumvASOozDwu",
        "outputId": "59a5c6f4-a110-4b5f-cf9b-8901bbcf2b85"
      },
      "execution_count": null,
      "outputs": [
        {
          "output_type": "stream",
          "name": "stdout",
          "text": [
            "Enter Number = 25\n",
            "25 is not a prime number\n"
          ]
        }
      ]
    },
    {
      "cell_type": "markdown",
      "source": [
        "Write a program to find all prime numbers within 100"
      ],
      "metadata": {
        "id": "NtvIN3v27Wjm"
      }
    },
    {
      "cell_type": "code",
      "source": [
        "primelist=[0,1]\n",
        "non_prime=[]\n",
        "for i in range (2, 100):\n",
        "  for j in range (2, i-1):\n",
        "    if (i % j ==0):\n",
        "      non_prime.append(i)\n",
        "      break\n",
        "  else:\n",
        "    primelist.append(i)\n",
        "print(\"prime_number=\",primelist)\n",
        "print('non_prime_number=', non_prime)"
      ],
      "metadata": {
        "colab": {
          "base_uri": "https://localhost:8080/"
        },
        "id": "wCcNOr707bj9",
        "outputId": "b6bde7d5-5f20-4ec7-c778-da333cabde9b"
      },
      "execution_count": null,
      "outputs": [
        {
          "output_type": "stream",
          "name": "stdout",
          "text": [
            "prime_number= [0, 1, 2, 3, 5, 7, 11, 13, 17, 19, 23, 29, 31, 37, 41, 43, 47, 53, 59, 61, 67, 71, 73, 79, 83, 89, 97]\n",
            "non_prime_number= [4, 6, 8, 9, 10, 12, 14, 15, 16, 18, 20, 21, 22, 24, 25, 26, 27, 28, 30, 32, 33, 34, 35, 36, 38, 39, 40, 42, 44, 45, 46, 48, 49, 50, 51, 52, 54, 55, 56, 57, 58, 60, 62, 63, 64, 65, 66, 68, 69, 70, 72, 74, 75, 76, 77, 78, 80, 81, 82, 84, 85, 86, 87, 88, 90, 91, 92, 93, 94, 95, 96, 98, 99]\n"
          ]
        }
      ]
    },
    {
      "cell_type": "markdown",
      "source": [
        "Create a fibbonocci series"
      ],
      "metadata": {
        "id": "lat8IKpi-Ci0"
      }
    },
    {
      "cell_type": "code",
      "source": [
        "a= [1,2]\n",
        "for i in range(6):\n",
        "  b = a[len(a)-1] +a[len(a)-2]\n",
        "  a.append(b)\n",
        "print(a)\n"
      ],
      "metadata": {
        "colab": {
          "base_uri": "https://localhost:8080/"
        },
        "id": "k-ckhdNd-GNw",
        "outputId": "ec6d3a3c-a832-4617-92eb-9293785aa544"
      },
      "execution_count": null,
      "outputs": [
        {
          "output_type": "stream",
          "name": "stdout",
          "text": [
            "[1, 2, 3, 5, 8, 13, 21, 34]\n"
          ]
        }
      ]
    },
    {
      "cell_type": "markdown",
      "source": [
        "Booleans are true and false kind of features.\n",
        "\n",
        "Tuples are similar to the list but elements are fixed and can't be changed.\n",
        "\n",
        "Strings are like singal element tuple."
      ],
      "metadata": {
        "id": "JbIcdAaEIFJe"
      }
    },
    {
      "cell_type": "markdown",
      "source": [
        "NumPy:\n",
        "\n",
        "An array object of arbitrary homogeneous items\n",
        "\n",
        "Fast mathematical operations over arrays\n",
        "\n",
        "Linear Algebra, Fourier Transforms, Random Number Generation"
      ],
      "metadata": {
        "id": "FtkYydpUIypR"
      }
    },
    {
      "cell_type": "markdown",
      "source": [
        "commands for genertaing arrays:\n",
        "\n",
        "1. np.arange(X): will generate a matrix with len of X\n",
        "\n",
        "2. np.arange(x,y,z): will generate a matrix with int. numbers strating from X to y (not including y) with step of z\n",
        "\n",
        "3. np.ones((X,Y)): an array of (X,Y) with all values to 1\n",
        "\n",
        "4. np.diag([x,y,z]): Diagonal matrix with elements\n",
        "\n",
        "5. np.linspace(X, Y, num=Z): will generate an array of len =num with float numbers strating from X to y (including y)\n",
        "\n",
        "6. np.random.rand(x): will generate the x random numbers between (0 and 1)\n",
        "\n",
        "7. np.random.uniform(x,y, size=z): will generate Z random numbers between x and y\n",
        "\n",
        "8. np.random.rand(X,Y): will generate a random array of size X x Y; can also give (low, high, size=X) to form one dimensional array of size X.\n",
        "\n",
        "9. to access any element X[1,2]: numbering in counting start from 0 not 1\n",
        "\n",
        "10. Reshape the array by x.reshape(n,m)\n",
        "\n"
      ],
      "metadata": {
        "id": "HqtFtJ69J48a"
      }
    },
    {
      "cell_type": "code",
      "source": [
        "import numpy as np\n",
        "import matplotlib.pyplot as plot\n",
        "mat = np.arange(3,5)\n",
        "X= np.arange(2,6,2)\n",
        "Y = np.random.rand(3,4)\n",
        "Z = np.linspace(0, 1, num=10)\n",
        "A= np.ones((3,5))\n",
        "B= np.random.rand(0,2,5)\n",
        "c= np.random.uniform(1, 4, size=4)\n",
        "print (mat)\n",
        "print(X)\n",
        "print(Y)\n",
        "print(Z)\n",
        "print(Y[1,2])\n",
        "print(A)\n",
        "print(B)\n",
        "print('c:\\n', c)\n"
      ],
      "metadata": {
        "colab": {
          "base_uri": "https://localhost:8080/"
        },
        "id": "M0WLFC-6I-WI",
        "outputId": "5b5fe8e4-0bb8-4287-f275-c83e038d268b"
      },
      "execution_count": null,
      "outputs": [
        {
          "output_type": "stream",
          "name": "stdout",
          "text": [
            "[3 4]\n",
            "[2 4]\n",
            "[[0.0881403  0.12378799 0.17563663 0.92670994]\n",
            " [0.41635932 0.21011837 0.53882571 0.25559586]\n",
            " [0.6426878  0.42392492 0.46698624 0.94924274]]\n",
            "[0.         0.11111111 0.22222222 0.33333333 0.44444444 0.55555556\n",
            " 0.66666667 0.77777778 0.88888889 1.        ]\n",
            "0.5388257118532082\n",
            "[[1. 1. 1. 1. 1.]\n",
            " [1. 1. 1. 1. 1.]\n",
            " [1. 1. 1. 1. 1.]]\n",
            "[]\n",
            "c:\n",
            " [3.73412487 1.54496051 3.17025504 3.60229436]\n"
          ]
        }
      ]
    },
    {
      "cell_type": "code",
      "source": [
        "import numpy as np\n",
        "import matplotlib.pyplot as plt\n",
        "x = np.arange(15).reshape(5, 3)\n",
        "y = np.random.randint(-1, 3, size=15)\n",
        "Y= y.reshape(5,3)\n",
        "print('x:\\n', x) #\\n to give a line break in the print\n",
        "print('Y:\\n', Y)\n",
        "x + Y\n",
        "b = np.array((Y[2], Y[4]))\n",
        "print(b)\n",
        "z= np.empty(2)\n",
        "print(z)\n",
        "Z= np.random.rand(4,5,20)\n",
        "#this will genrate 4 rows, 5 column with each element having 20 entries\n",
        "print(Z)\n",
        "print(Z[1][1][1]) # to print a specific element of the array"
      ],
      "metadata": {
        "colab": {
          "base_uri": "https://localhost:8080/"
        },
        "id": "Oa3BP1b-QVKI",
        "outputId": "81eba569-c288-4ec1-f79d-9fc1c2a94c1b"
      },
      "execution_count": null,
      "outputs": [
        {
          "output_type": "stream",
          "name": "stdout",
          "text": [
            "x: [[ 0  1  2]\n",
            " [ 3  4  5]\n",
            " [ 6  7  8]\n",
            " [ 9 10 11]\n",
            " [12 13 14]]\n",
            "Y:\n",
            " [[ 0  1  0]\n",
            " [ 1 -1  1]\n",
            " [ 0  2  2]\n",
            " [ 2  1 -1]\n",
            " [ 0  1 -1]]\n",
            "[[ 0  2  2]\n",
            " [ 0  1 -1]]\n",
            "[1.e-323 2.e-323]\n",
            "[[[0.76904914 0.42646722 0.03376493 0.43101018 0.94751609 0.54776233\n",
            "   0.65821319 0.53684697 0.9657721  0.52192527 0.33902422 0.19091097\n",
            "   0.39728555 0.68963478 0.69715672 0.34597955 0.56180245 0.44610534\n",
            "   0.23413053 0.49194112]\n",
            "  [0.28636668 0.1483014  0.34154353 0.1486428  0.43373537 0.66252136\n",
            "   0.80304445 0.98028834 0.80625542 0.15295261 0.62790733 0.40719031\n",
            "   0.81679434 0.61478841 0.66274435 0.97125939 0.6688189  0.07170545\n",
            "   0.85071548 0.08627395]\n",
            "  [0.81462503 0.75209164 0.33135614 0.80733445 0.17330836 0.70651979\n",
            "   0.42745154 0.31792653 0.7798051  0.29940482 0.83720994 0.91772207\n",
            "   0.20847248 0.54946729 0.80850796 0.86092261 0.74019228 0.15496401\n",
            "   0.51162654 0.96886121]\n",
            "  [0.02027974 0.42336246 0.65953268 0.66797404 0.78641941 0.5940575\n",
            "   0.9909997  0.17274786 0.93470816 0.28916648 0.99594641 0.62350188\n",
            "   0.77723026 0.36381327 0.35402228 0.76946231 0.88648849 0.39214684\n",
            "   0.46993379 0.72180209]\n",
            "  [0.62733762 0.22613913 0.16652416 0.13718249 0.66819469 0.24223175\n",
            "   0.65315117 0.51585088 0.2256472  0.9860809  0.75549365 0.11599209\n",
            "   0.56362132 0.42855459 0.51791111 0.64992416 0.28630451 0.26948206\n",
            "   0.06050887 0.82157449]]\n",
            "\n",
            " [[0.54406174 0.0704303  0.08723209 0.07675535 0.65175518 0.88696627\n",
            "   0.94635697 0.01008129 0.1394579  0.59699626 0.24013891 0.06421644\n",
            "   0.46091874 0.18040778 0.21174444 0.3907501  0.35518961 0.83554415\n",
            "   0.61235314 0.5619477 ]\n",
            "  [0.2736389  0.41735366 0.82206504 0.12649138 0.07391359 0.61134545\n",
            "   0.64788715 0.9624327  0.292632   0.88111779 0.71573429 0.09890764\n",
            "   0.02194529 0.18653319 0.19690181 0.94509824 0.19200379 0.91228347\n",
            "   0.8437384  0.41285474]\n",
            "  [0.92961475 0.40570484 0.80177552 0.25859081 0.48381878 0.8608307\n",
            "   0.36779163 0.2169745  0.5349353  0.05522048 0.70055471 0.97349625\n",
            "   0.55844693 0.28736895 0.93450503 0.28538639 0.6099295  0.790209\n",
            "   0.69623256 0.09193877]\n",
            "  [0.73855076 0.99117119 0.402808   0.18200183 0.83430601 0.53755176\n",
            "   0.27755736 0.02377879 0.60983927 0.23869961 0.99628956 0.16037808\n",
            "   0.6517637  0.32144879 0.44606786 0.26747001 0.2803379  0.65246939\n",
            "   0.22458543 0.93492671]\n",
            "  [0.80669265 0.54473134 0.45565499 0.94911701 0.23024696 0.36221738\n",
            "   0.04780269 0.8284245  0.32824337 0.06335904 0.0032893  0.03027206\n",
            "   0.60321883 0.30332499 0.24274376 0.06447345 0.44031598 0.27434748\n",
            "   0.64601488 0.01419634]]\n",
            "\n",
            " [[0.4255683  0.44713575 0.93635178 0.63567627 0.35029035 0.07172906\n",
            "   0.60929127 0.05974089 0.74941576 0.87088015 0.22414697 0.29546768\n",
            "   0.99662595 0.15617756 0.94893724 0.77134396 0.44484985 0.36531749\n",
            "   0.98241457 0.74668646]\n",
            "  [0.02484711 0.30185531 0.18704552 0.30654713 0.86479937 0.35962304\n",
            "   0.92748467 0.00285085 0.4867927  0.39003996 0.23854179 0.48184197\n",
            "   0.60518267 0.6063267  0.41612185 0.71760816 0.29044335 0.82032429\n",
            "   0.73436752 0.08875207]\n",
            "  [0.03869929 0.98887841 0.55361321 0.92579655 0.28153942 0.52606026\n",
            "   0.17851387 0.19066653 0.84251992 0.48416033 0.46206693 0.49851202\n",
            "   0.32837911 0.6183869  0.63488371 0.5709649  0.1833736  0.7447986\n",
            "   0.63403802 0.27083012]\n",
            "  [0.00830027 0.22453369 0.57963771 0.13864929 0.62260466 0.16430474\n",
            "   0.26944134 0.10857738 0.6444497  0.01703768 0.12761292 0.34527565\n",
            "   0.70028432 0.31156092 0.8617809  0.66200319 0.77284447 0.17395468\n",
            "   0.15251424 0.58127798]\n",
            "  [0.23314558 0.08097991 0.99605897 0.1545113  0.65698907 0.70438264\n",
            "   0.73180416 0.42954958 0.0139312  0.04297755 0.68852112 0.89740395\n",
            "   0.51146272 0.25157482 0.63949413 0.28302243 0.39145506 0.54213581\n",
            "   0.34061988 0.24375007]]\n",
            "\n",
            " [[0.17867572 0.30101813 0.60061616 0.0981164  0.92126102 0.77181148\n",
            "   0.57890708 0.53652948 0.25325533 0.32207493 0.54693137 0.92591582\n",
            "   0.31940805 0.35692566 0.66634733 0.40219909 0.28887552 0.83801832\n",
            "   0.93238197 0.35672813]\n",
            "  [0.08394533 0.86607194 0.15141224 0.3218146  0.4114062  0.20960873\n",
            "   0.7824922  0.94812931 0.68468581 0.30263989 0.16790005 0.18211153\n",
            "   0.23708015 0.7861549  0.94837452 0.55420746 0.0720177  0.31943426\n",
            "   0.11351388 0.87068394]\n",
            "  [0.23915972 0.18938738 0.27448244 0.80418271 0.75409486 0.71596793\n",
            "   0.68681008 0.06490455 0.0852448  0.93566161 0.29529055 0.30571577\n",
            "   0.31569123 0.62920014 0.72690906 0.82652607 0.56842175 0.38771204\n",
            "   0.05798533 0.60071373]\n",
            "  [0.72860364 0.00462453 0.20746679 0.02356728 0.81474451 0.49607069\n",
            "   0.06145357 0.35548077 0.81062252 0.73168069 0.32578159 0.64167494\n",
            "   0.48677713 0.13397472 0.85288476 0.00936746 0.20143758 0.08011922\n",
            "   0.66183999 0.79800986]\n",
            "  [0.20598108 0.47104732 0.06249927 0.59654859 0.89075093 0.24585671\n",
            "   0.53918893 0.65566139 0.28773568 0.02181644 0.1899302  0.21425432\n",
            "   0.68003766 0.94710053 0.65224345 0.91486225 0.03647764 0.53256077\n",
            "   0.75209654 0.82927432]]]\n",
            "0.4173536648725483\n"
          ]
        }
      ]
    },
    {
      "cell_type": "code",
      "source": [
        "import numpy as np\n",
        "A= np.arange(15)\n",
        "B= A.reshape(5,3)\n",
        "print(A)\n",
        "print(B)\n",
        "x=[0,3] # rows for which y elements are taken\n",
        "y=[0,1]\n",
        "C =B[x][y]\n",
        "print(C)"
      ],
      "metadata": {
        "colab": {
          "base_uri": "https://localhost:8080/"
        },
        "id": "OqGc1OGfZWyg",
        "outputId": "0235975e-ae46-4ec3-81c8-792675a1b061"
      },
      "execution_count": null,
      "outputs": [
        {
          "output_type": "stream",
          "name": "stdout",
          "text": [
            "[ 0  1  2  3  4  5  6  7  8  9 10 11 12 13 14]\n",
            "[[ 0  1  2]\n",
            " [ 3  4  5]\n",
            " [ 6  7  8]\n",
            " [ 9 10 11]\n",
            " [12 13 14]]\n",
            "[[ 0  1  2]\n",
            " [ 9 10 11]]\n"
          ]
        }
      ]
    },
    {
      "cell_type": "code",
      "source": [
        "import numpy as np\n",
        "A= np.arange(1,22,1)\n",
        "A= A.reshape(3,7)\n",
        "B= A.T\n",
        "print(A)\n",
        "print(B)\n",
        "c=B[2:6:2] #start, end and step of the 2ow, similarly column values can also be added. end row is not taken in account. to add the last row also, the number has to be one greater\n",
        "d=B[:,1:] #to print from 1st row to last row and 1st column to last column\n",
        "#d=B[3::]\n",
        "print(c)\n",
        "print(d)\n",
        "f= np.arange(0,51,10)\n",
        "print(f)\n",
        "Z= np.arange(0,51,10) + np.arange(6)[:,np.newaxis] # each element is added to the corresponindg rows\n",
        "#next element is added to form a second row[starting element position of second array][:] is used to form a new row and print all of them.\n",
        "print('z:\\n',Z)\n",
        "print(Z.T) # printing the transpose\n",
        "import numpy as np\n",
        "a = np.arange(1,26,1).reshape(5, 5)\n",
        "b= np.array([1., 5, 10, 15, 20])\n",
        "c=a/b[:,np.newaxis] # 1st row of a is divided by 1st element and second row is formed by diving the second row by second element of b, and so on.\n",
        "d= np.arange(1,51,2).reshape(5,5)\n",
        "print(d)\n",
        "e= a/d\n",
        "print(e)\n",
        "print(c)"
      ],
      "metadata": {
        "colab": {
          "base_uri": "https://localhost:8080/"
        },
        "id": "fR27Fv30wC5n",
        "outputId": "ab50a9c5-0c48-4ab7-e43b-23a9f6c9c751"
      },
      "execution_count": null,
      "outputs": [
        {
          "output_type": "stream",
          "name": "stdout",
          "text": [
            "[[ 1  2  3  4  5  6  7]\n",
            " [ 8  9 10 11 12 13 14]\n",
            " [15 16 17 18 19 20 21]]\n",
            "[[ 1  8 15]\n",
            " [ 2  9 16]\n",
            " [ 3 10 17]\n",
            " [ 4 11 18]\n",
            " [ 5 12 19]\n",
            " [ 6 13 20]\n",
            " [ 7 14 21]]\n",
            "[[ 3 10 17]\n",
            " [ 5 12 19]]\n",
            "[[ 8 15]\n",
            " [ 9 16]\n",
            " [10 17]\n",
            " [11 18]\n",
            " [12 19]\n",
            " [13 20]\n",
            " [14 21]]\n",
            "[ 0 10 20 30 40 50]\n",
            "z:\n",
            " [[ 0 10 20 30 40 50]\n",
            " [ 1 11 21 31 41 51]\n",
            " [ 2 12 22 32 42 52]]\n",
            "[[ 0  1  2]\n",
            " [10 11 12]\n",
            " [20 21 22]\n",
            " [30 31 32]\n",
            " [40 41 42]\n",
            " [50 51 52]]\n",
            "[[ 1  3  5  7  9]\n",
            " [11 13 15 17 19]\n",
            " [21 23 25 27 29]\n",
            " [31 33 35 37 39]\n",
            " [41 43 45 47 49]]\n",
            "[[1.         0.66666667 0.6        0.57142857 0.55555556]\n",
            " [0.54545455 0.53846154 0.53333333 0.52941176 0.52631579]\n",
            " [0.52380952 0.52173913 0.52       0.51851852 0.51724138]\n",
            " [0.51612903 0.51515152 0.51428571 0.51351351 0.51282051]\n",
            " [0.51219512 0.51162791 0.51111111 0.5106383  0.51020408]]\n",
            "[[1.         2.         3.         4.         5.        ]\n",
            " [1.2        1.4        1.6        1.8        2.        ]\n",
            " [1.1        1.2        1.3        1.4        1.5       ]\n",
            " [1.06666667 1.13333333 1.2        1.26666667 1.33333333]\n",
            " [1.05       1.1        1.15       1.2        1.25      ]]\n"
          ]
        }
      ]
    },
    {
      "cell_type": "code",
      "source": [
        "import numpy as np\n",
        "A=np.random.seed(1234)\n",
        "print(A)\n",
        "B=np.empty\n",
        "print(B)"
      ],
      "metadata": {
        "colab": {
          "base_uri": "https://localhost:8080/"
        },
        "id": "0ljcqty0Ko7H",
        "outputId": "c4d3151b-b12f-412b-8700-8e6fe3cc9cca"
      },
      "execution_count": null,
      "outputs": [
        {
          "output_type": "stream",
          "name": "stdout",
          "text": [
            "None\n",
            "<built-in function empty>\n"
          ]
        }
      ]
    },
    {
      "cell_type": "code",
      "source": [
        "import numpy as np\n",
        "import matplotlib.pyplot as plt\n",
        "x=np.diag(np.random.uniform(1,10,3)) # creating random diagonal matrix\n",
        "y= np.random.rand(2,6)\n",
        "print(y)\n",
        "print(x)\n",
        "A=np.arange(180)\n",
        "B=np.sin(np.pi*A/180)**2 # trignometric inputs are in radians.iris\n",
        "print(A, np.sin(A))\n",
        "plt.plot(A,B)"
      ],
      "metadata": {
        "colab": {
          "base_uri": "https://localhost:8080/",
          "height": 1000
        },
        "id": "jSzeIlDVLmOR",
        "outputId": "beed811f-54d9-44f0-a2ae-fac1d61e62a7"
      },
      "execution_count": null,
      "outputs": [
        {
          "output_type": "stream",
          "name": "stdout",
          "text": [
            "[[0.23842209 0.38225032 0.06723283 0.7550179  0.96969938 0.36950983]\n",
            " [0.48892493 0.34093864 0.34966843 0.59814511 0.51556424 0.36302843]]\n",
            "[[2.52496061 0.         0.        ]\n",
            " [0.         6.980739   0.        ]\n",
            " [0.         0.         6.95023572]]\n",
            "[  0   1   2   3   4   5   6   7   8   9  10  11  12  13  14  15  16  17\n",
            "  18  19  20  21  22  23  24  25  26  27  28  29  30  31  32  33  34  35\n",
            "  36  37  38  39  40  41  42  43  44  45  46  47  48  49  50  51  52  53\n",
            "  54  55  56  57  58  59  60  61  62  63  64  65  66  67  68  69  70  71\n",
            "  72  73  74  75  76  77  78  79  80  81  82  83  84  85  86  87  88  89\n",
            "  90  91  92  93  94  95  96  97  98  99 100 101 102 103 104 105 106 107\n",
            " 108 109 110 111 112 113 114 115 116 117 118 119 120 121 122 123 124 125\n",
            " 126 127 128 129 130 131 132 133 134 135 136 137 138 139 140 141 142 143\n",
            " 144 145 146 147 148 149 150 151 152 153 154 155 156 157 158 159 160 161\n",
            " 162 163 164 165 166 167 168 169 170 171 172 173 174 175 176 177 178 179] [ 0.          0.84147098  0.90929743  0.14112001 -0.7568025  -0.95892427\n",
            " -0.2794155   0.6569866   0.98935825  0.41211849 -0.54402111 -0.99999021\n",
            " -0.53657292  0.42016704  0.99060736  0.65028784 -0.28790332 -0.96139749\n",
            " -0.75098725  0.14987721  0.91294525  0.83665564 -0.00885131 -0.8462204\n",
            " -0.90557836 -0.13235175  0.76255845  0.95637593  0.27090579 -0.66363388\n",
            " -0.98803162 -0.40403765  0.55142668  0.99991186  0.52908269 -0.42818267\n",
            " -0.99177885 -0.64353813  0.29636858  0.96379539  0.74511316 -0.15862267\n",
            " -0.91652155 -0.83177474  0.01770193  0.85090352  0.90178835  0.12357312\n",
            " -0.76825466 -0.95375265 -0.26237485  0.67022918  0.98662759  0.39592515\n",
            " -0.55878905 -0.99975517 -0.521551    0.43616476  0.99287265  0.63673801\n",
            " -0.30481062 -0.96611777 -0.7391807   0.1673557   0.92002604  0.82682868\n",
            " -0.02655115 -0.85551998 -0.89792768 -0.11478481  0.77389068  0.95105465\n",
            "  0.25382336 -0.67677196 -0.98514626 -0.38778164  0.56610764  0.99952016\n",
            "  0.51397846 -0.44411267 -0.99388865 -0.62988799  0.31322878  0.96836446\n",
            "  0.73319032 -0.17607562 -0.92345845 -0.82181784  0.0353983   0.86006941\n",
            "  0.89399666  0.10598751 -0.77946607 -0.94828214 -0.24525199  0.68326171\n",
            "  0.98358775  0.37960774 -0.57338187 -0.99920683 -0.50636564  0.45202579\n",
            "  0.99482679  0.62298863 -0.3216224  -0.97053528 -0.7271425   0.18478174\n",
            "  0.92681851  0.81674261 -0.04424268 -0.86455145 -0.8899956  -0.09718191\n",
            "  0.78498039  0.94543533  0.23666139 -0.68969794 -0.98195217 -0.3714041\n",
            "  0.58061118  0.99881522  0.49871315 -0.45990349 -0.99568699 -0.61604046\n",
            "  0.32999083  0.97263007  0.72103771 -0.19347339 -0.93010595 -0.81160339\n",
            "  0.05308359  0.86896576  0.88592482  0.08836869 -0.79043321 -0.94251445\n",
            " -0.22805226  0.69608013  0.98023966  0.36317137 -0.58779501 -0.99834536\n",
            " -0.49102159  0.46774516  0.99646917  0.60904402 -0.33833339 -0.97464865\n",
            " -0.71487643  0.20214988  0.93332052  0.80640058 -0.06192034 -0.87331198\n",
            " -0.88178462 -0.07954854  0.7958241   0.93951973  0.21942526 -0.70240779\n",
            " -0.97845035 -0.35491018  0.59493278  0.99779728  0.48329156 -0.47555019\n",
            " -0.99717329 -0.60199987  0.34664946  0.97659087  0.70865914 -0.21081053\n",
            " -0.93646197 -0.8011346   0.07075224  0.87758979  0.87757534  0.07072217]\n"
          ]
        },
        {
          "output_type": "execute_result",
          "data": {
            "text/plain": [
              "[<matplotlib.lines.Line2D at 0x7c2fee167280>]"
            ]
          },
          "metadata": {},
          "execution_count": 58
        },
        {
          "output_type": "display_data",
          "data": {
            "text/plain": [
              "<Figure size 640x480 with 1 Axes>"
            ],
            "image/png": "[encoded data removed]"
          },
          "metadata": {}
        }
      ]
    }
  ]
}